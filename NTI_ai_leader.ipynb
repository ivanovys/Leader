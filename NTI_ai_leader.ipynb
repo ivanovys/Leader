{
 "cells": [
  {
   "cell_type": "markdown",
   "metadata": {},
   "source": [
    "Иванов Ю.С.\n",
    "ivanov_ys@icloud.com\n"
   ]
  },
  {
   "cell_type": "markdown",
   "metadata": {},
   "source": [
    "Получаем доступ к данным через \n",
    "https://ai.leader-id.ru/api/v1/activities/4/leaderboard/?format=json&limit=2000\n",
    "\n",
    "Сохраняем в LeaderJSON.json"
   ]
  },
  {
   "cell_type": "code",
   "execution_count": 1,
   "metadata": {},
   "outputs": [],
   "source": [
    "import json\n",
    "import pandas as pd\n",
    "from tld import get_tld\n",
    "\n",
    "import tldextract\n",
    "\n",
    "import matplotlib\n",
    "import matplotlib.pyplot as plt\n",
    "%matplotlib inline\n",
    "import seaborn as sns\n",
    "import numpy as np\n",
    "\n",
    "import difflib\n",
    "\n",
    "import re\n",
    "import transliterate\n",
    "from googletrans import Translator\n",
    "\n",
    "from scipy.stats import pearsonr, spearmanr, kendalltau\n",
    "from sklearn.cluster import KMeans\n",
    "\n",
    "from sklearn.preprocessing import MinMaxScaler"
   ]
  },
  {
   "cell_type": "code",
   "execution_count": 2,
   "metadata": {},
   "outputs": [],
   "source": [
    "file_name = \"LeaderJSON.json\"\n",
    "with open(file_name, 'r') as f:\n",
    "    document =  json.loads(f.read())\n",
    "    \n",
    "results=document['results']\n",
    "\n",
    "data=pd.DataFrame.from_dict(results)\n",
    "data=data.set_index('id')"
   ]
  },
  {
   "cell_type": "code",
   "execution_count": 3,
   "metadata": {},
   "outputs": [
    {
     "name": "stdout",
     "output_type": "stream",
     "text": [
      " ОТВЕТ НА ПЕРВЫЙ ВОПРОС\n",
      "\n",
      "Наиболее часто используемые домены:\n",
      "1е место 'ru' - всего 502 записей\n",
      "2е место 'com' - всего 478 записей\n",
      "3е место 'sk' - всего 45 записей\n"
     ]
    }
   ],
   "source": [
    "print(\" ОТВЕТ НА ПЕРВЫЙ ВОПРОС\\n\")\n",
    "\n",
    "#были некоторые проблемы с использованием библиотеки tld. например http://github.io извлекались как github.io\n",
    "#поэтому использовали tldextract\n",
    "\n",
    "data['TLD']=[tldextract.extract(url)[2] for url in data['link']]\n",
    "data['Domain']=[tldextract.extract(url)[1] for url in data['link']]\n",
    "\n",
    "top_three_tld=data.TLD.value_counts()[0:3]\n",
    "\n",
    "print(\"Наиболее часто используемые домены:\")\n",
    "\n",
    "for i in range(0,3):\n",
    "    print(f\"{i+1}е место '{top_three_tld.index[i]}' - всего {top_three_tld[i]} записей\")"
   ]
  },
  {
   "cell_type": "markdown",
   "metadata": {},
   "source": [
    "Для ответа на второй вопрос\n",
    "переведем все в нижний регистр"
   ]
  },
  {
   "cell_type": "code",
   "execution_count": 4,
   "metadata": {},
   "outputs": [],
   "source": [
    "data.name=data.name.str.lower()\n",
    "data.Domain=data.Domain.str.lower()"
   ]
  },
  {
   "cell_type": "markdown",
   "metadata": {},
   "source": [
    "*ВНИМАНИЕ ДОСТУП ПО id\n",
    "Необходимо рассмотреть несколько случаев\n",
    "\n",
    "1 Случай: название сайта входит в текст описания проекта\n",
    "Например\n",
    "\n",
    "data.Domain[9] in data.name[9]\n",
    "True "
   ]
  },
  {
   "cell_type": "code",
   "execution_count": 5,
   "metadata": {},
   "outputs": [
    {
     "name": "stdout",
     "output_type": "stream",
     "text": [
      "Название сайта:'emiia', описание сайта:'emiia.ai –  neural network library for signal processing and data visualization',входит:True\n"
     ]
    }
   ],
   "source": [
    "print(f\"Название сайта:'{data.Domain[9]}', описание сайта:'{data.name[9]}',\\\n",
    "входит:{data.Domain[9] in data.name[9]}\")"
   ]
  },
  {
   "cell_type": "markdown",
   "metadata": {},
   "source": [
    "2 Случай: название сайта состоит из нескольких слов, в которых присутствует название проекта\n",
    "\n",
    "Например\n",
    "\n",
    "data.Domain[823] in data.name[823].lower()\n",
    "False\n",
    "\n",
    "data.name[823] in data.Domain[823]\n",
    "False"
   ]
  },
  {
   "cell_type": "code",
   "execution_count": 6,
   "metadata": {},
   "outputs": [
    {
     "name": "stdout",
     "output_type": "stream",
     "text": [
      "Название сайта:'gogotechnology', описание сайта:'gogo курьер',входит:False\n"
     ]
    }
   ],
   "source": [
    "print(f\"Название сайта:'{data.Domain[823]}', описание сайта:'{data.name[823]}',\\\n",
    "входит:{data.Domain[823] in data.name[823]}\")"
   ]
  },
  {
   "cell_type": "markdown",
   "metadata": {},
   "source": [
    "Для обработки такого случая необходимо разбить строку на слова и проверить их вхождение в название сайта\n",
    "\n",
    "Также необходимо ограничить длину слов до 3\n",
    "\n",
    "для разбиения по нескольким разделителям используем библиотеку re\n",
    "re.split(r'[-.;,\\s]\\s*',data.name[679])\n",
    "\n",
    "any([word in data.Domain[823] for word in re.split(r'[-.;,\\s]\\s*',data.name[823]) if len(word)>2])\n",
    "True \n"
   ]
  },
  {
   "cell_type": "code",
   "execution_count": 7,
   "metadata": {},
   "outputs": [
    {
     "name": "stdout",
     "output_type": "stream",
     "text": [
      "Название сайта:'gogotechnology', описание сайта:'gogo курьер',входит:True\n",
      "Название сайта:'wwmarketingbot', описание сайта:'ww marketing bot',входит:True\n"
     ]
    }
   ],
   "source": [
    "print(f\"Название сайта:'{data.Domain[823]}', описание сайта:'{data.name[823]}',\\\n",
    "входит:{any([word in data.Domain[823] for word in data.name[823].split() if len(word)>2])}\")\n",
    "print(f\"Название сайта:'{data.Domain[637]}', описание сайта:'{data.name[637]}',\\\n",
    "входит:{any([word in data.Domain[637] for word in data.name[637].split() if len(word)>2])}\")"
   ]
  },
  {
   "cell_type": "markdown",
   "metadata": {},
   "source": [
    "3 Случай: Название написано на русском языке, название сайта на английском или в латинице необходимо выполнить перевод или транслитерацию в латиницу"
   ]
  },
  {
   "cell_type": "code",
   "execution_count": 8,
   "metadata": {},
   "outputs": [],
   "source": [
    "def domain_is_match_name(name:str, domain:str)->bool:\n",
    "    result=(any([word in domain for word in re.split(r'[-.;,\\s]\\s*',name) if len(word)>2]) or\n",
    "            name in domain or\n",
    "            any([word in name for word in re.split(r'[-.;,\\s]\\s*',domain) if len(word)>2]))\n",
    "\n",
    "    return result\n",
    "\n",
    "# translator = Translator()\n",
    "# translator.translate(data.name[20]).text    "
   ]
  },
  {
   "cell_type": "code",
   "execution_count": 9,
   "metadata": {},
   "outputs": [
    {
     "name": "stdout",
     "output_type": "stream",
     "text": [
      " ОТВЕТ НА ВТОРОЙ ВОПРОС\n",
      "\n",
      "У 162 проектов их название совпадает с названием их сайта \n",
      "(учитываются только приобретенные домены. субдомены не учитываются) \n"
     ]
    }
   ],
   "source": [
    "print(\" ОТВЕТ НА ВТОРОЙ ВОПРОС\\n\")\n",
    "data['domain_match_name']=[domain_is_match_name(name,domain) for(name,domain) in zip(data.name,data.Domain)]\n",
    "\n",
    "print (f\"У {(data['domain_match_name'] == True).sum()} проектов их название совпадает с названием их сайта \\n\\\n",
    "(учитываются только приобретенные домены. субдомены не учитываются) \")"
   ]
  },
  {
   "cell_type": "code",
   "execution_count": 10,
   "metadata": {},
   "outputs": [
    {
     "name": "stdout",
     "output_type": "stream",
     "text": [
      " ОТВЕТ НА ТРЕТИЙ ВОПРОС\n"
     ]
    },
    {
     "data": {
      "image/png": "[encoded data removed]",
      "text/plain": [
       "<Figure size 432x288 with 1 Axes>"
      ]
     },
     "metadata": {
      "needs_background": "light"
     },
     "output_type": "display_data"
    },
    {
     "data": {
      "image/png": "[encoded data removed]",
      "text/plain": [
       "<Figure size 432x288 with 1 Axes>"
      ]
     },
     "metadata": {
      "needs_background": "light"
     },
     "output_type": "display_data"
    }
   ],
   "source": [
    "labels=data['members_count'].value_counts(sort=False).index.values\n",
    "plt.hist(data['members_count'])\n",
    "\n",
    "fig, ax =plt.subplots()\n",
    "#sns.distplot(data['members_count'],norm_hist = False, kde=False, bins=[1, 2, 3, 4, 5, 6, 7,8,9], ax=ax[0])\n",
    "sns.distplot(data['members_count'],norm_hist = True, kde=True)\n",
    "\n",
    "print(\" ОТВЕТ НА ТРЕТИЙ ВОПРОС\")"
   ]
  },
  {
   "cell_type": "markdown",
   "metadata": {},
   "source": [
    "На графиках видно, что максимальное количество команд состоит из одного человека"
   ]
  },
  {
   "cell_type": "code",
   "execution_count": 11,
   "metadata": {},
   "outputs": [
    {
     "data": {
      "text/plain": [
       "0       4\n",
       "1     677\n",
       "2     189\n",
       "3     112\n",
       "4      83\n",
       "5      90\n",
       "6      57\n",
       "7      31\n",
       "8      17\n",
       "9      11\n",
       "10     19\n",
       "Name: members_count, dtype: int64"
      ]
     },
     "execution_count": 11,
     "metadata": {},
     "output_type": "execute_result"
    }
   ],
   "source": [
    "data['members_count'].value_counts(sort=False)"
   ]
  },
  {
   "cell_type": "markdown",
   "metadata": {},
   "source": [
    "Попробуем найти зависимость между результатами команды и количеством человек в ней"
   ]
  },
  {
   "cell_type": "code",
   "execution_count": 12,
   "metadata": {},
   "outputs": [
    {
     "data": {
      "text/plain": [
       "<BarContainer object of 22 artists>"
      ]
     },
     "execution_count": 12,
     "metadata": {},
     "output_type": "execute_result"
    },
    {
     "data": {
      "image/png": "[encoded data removed]",
      "text/plain": [
       "<Figure size 432x288 with 1 Axes>"
      ]
     },
     "metadata": {
      "needs_background": "light"
     },
     "output_type": "display_data"
    }
   ],
   "source": [
    "team_results=data['features_count'].value_counts(sort=False).rename('number_of_teams').to_frame()\n",
    "\n",
    "team_results['average_members'] = [(data.loc[data['features_count']==score]).members_count.mean() for score in team_results.index.values]\n",
    "plt.bar(team_results.index,team_results['average_members'].values)"
   ]
  },
  {
   "cell_type": "markdown",
   "metadata": {},
   "source": [
    "На диаграмме представлен Score команд (Ox) количество участников (Oy)\n",
    "Можно предположить, что команды с количеством участников не менее 3х достигают больших результатов"
   ]
  },
  {
   "cell_type": "code",
   "execution_count": 13,
   "metadata": {},
   "outputs": [
    {
     "data": {
      "text/plain": [
       "<matplotlib.axes._subplots.AxesSubplot at 0x249a6e9db48>"
      ]
     },
     "execution_count": 13,
     "metadata": {},
     "output_type": "execute_result"
    },
    {
     "data": {
      "image/png": "[encoded data removed]",
      "text/plain": [
       "<Figure size 432x288 with 1 Axes>"
      ]
     },
     "metadata": {
      "needs_background": "light"
     },
     "output_type": "display_data"
    }
   ],
   "source": [
    "sns.stripplot(data['members_count'].values,data['features_count'].values)\n",
    "sns.boxplot(data['members_count'].values,data['features_count'].values)"
   ]
  },
  {
   "cell_type": "markdown",
   "metadata": {},
   "source": [
    "При этом команды от 5 человек не имеют нулевого score\n",
    "развернув график видно, что наиболее эффективные команды от 3 до 6-7 человек"
   ]
  },
  {
   "cell_type": "code",
   "execution_count": 14,
   "metadata": {},
   "outputs": [
    {
     "data": {
      "text/plain": [
       "<matplotlib.axes._subplots.AxesSubplot at 0x249a3394148>"
      ]
     },
     "execution_count": 14,
     "metadata": {},
     "output_type": "execute_result"
    },
    {
     "data": {
      "image/png": "[encoded data removed]",
      "text/plain": [
       "<Figure size 432x288 with 1 Axes>"
      ]
     },
     "metadata": {
      "needs_background": "light"
     },
     "output_type": "display_data"
    }
   ],
   "source": [
    "sns.stripplot(data['features_count'].values,data['members_count'].values)\n",
    "sns.boxplot(data['features_count'].values,data['members_count'].values)\n"
   ]
  },
  {
   "cell_type": "markdown",
   "metadata": {},
   "source": [
    "Однако, вычисляя обычную корреляцию, мы получаем довольно низкое значение"
   ]
  },
  {
   "cell_type": "code",
   "execution_count": 15,
   "metadata": {},
   "outputs": [
    {
     "data": {
      "text/plain": [
       "(0.44144376797751905, 1.1952234288606163e-62)"
      ]
     },
     "execution_count": 15,
     "metadata": {},
     "output_type": "execute_result"
    }
   ],
   "source": [
    "pearsonr(data['members_count'].values,data['features_count'].values)    # Pearson's r"
   ]
  },
  {
   "cell_type": "code",
   "execution_count": 16,
   "metadata": {},
   "outputs": [
    {
     "data": {
      "text/plain": [
       "SpearmanrResult(correlation=0.41178196176234744, pvalue=5.80282991918898e-54)"
      ]
     },
     "execution_count": 16,
     "metadata": {},
     "output_type": "execute_result"
    }
   ],
   "source": [
    "spearmanr(data['members_count'].values,data['features_count'].values)   # Spearman's rho"
   ]
  },
  {
   "cell_type": "code",
   "execution_count": 17,
   "metadata": {},
   "outputs": [
    {
     "data": {
      "text/plain": [
       "KendalltauResult(correlation=0.34181361714880243, pvalue=1.2406978214796824e-48)"
      ]
     },
     "execution_count": 17,
     "metadata": {},
     "output_type": "execute_result"
    }
   ],
   "source": [
    "kendalltau(data['members_count'].values,data['features_count'].values)  # Kendall's tau"
   ]
  },
  {
   "cell_type": "markdown",
   "metadata": {},
   "source": [
    "Проведем кластеризацию\n",
    "эмпирически пришли к 6 кластерам\n"
   ]
  },
  {
   "cell_type": "code",
   "execution_count": 18,
   "metadata": {},
   "outputs": [
    {
     "data": {
      "text/plain": [
       "<matplotlib.collections.PathCollection at 0x249a77399c8>"
      ]
     },
     "execution_count": 18,
     "metadata": {},
     "output_type": "execute_result"
    },
    {
     "data": {
      "image/png": "[encoded data removed]",
      "text/plain": [
       "<Figure size 432x288 with 1 Axes>"
      ]
     },
     "metadata": {
      "needs_background": "light"
     },
     "output_type": "display_data"
    }
   ],
   "source": [
    "points= np.array([data['members_count'].values,data['features_count'].values]).T\n",
    "\n",
    "scaler = MinMaxScaler()\n",
    "\n",
    "scaler.fit(points)\n",
    "# points=scaler.transform(points)\n",
    "\n",
    "kmeans = KMeans(n_clusters=6)# fit kmeans object to data\n",
    "kmeans.fit(points)# print location of clusters learned by kmeans object\n",
    "center=kmeans.cluster_centers_# save new clusters for chart\n",
    "y_km = kmeans.fit_predict(points)\n",
    "plt.scatter(center[:,0],center[:,1], s = 1000,c = [[1, 0, 0, 0.1]])\n",
    "\n",
    "\n",
    "plt.scatter(points[y_km ==0,0], points[y_km == 0,1], s=100, c='red')\n",
    "plt.scatter(points[y_km ==1,0], points[y_km == 1,1], s=100, c='black')\n",
    "plt.scatter(points[y_km ==2,0], points[y_km == 2,1], s=100, c='blue')\n",
    "plt.scatter(points[y_km ==3,0], points[y_km == 3,1], s=100, c='cyan')\n",
    "plt.scatter(points[y_km ==4,0], points[y_km == 4,1], s=100, c='yellow')\n",
    "plt.scatter(points[y_km ==5,0], points[y_km == 5,1], s=100, c='green')"
   ]
  },
  {
   "cell_type": "markdown",
   "metadata": {},
   "source": [
    "На графике отмечены кластеры и их центры (персиковые круги)\n",
    "как и в предидущем случае видно,то наибольшая эффективность достигается при 5-6 членах команды"
   ]
  },
  {
   "cell_type": "markdown",
   "metadata": {},
   "source": [
    "ВЫВОД\n",
    "Считаю, что идеальный вариант посмотреть во времени.\n",
    "Нужно рассмотреть вопрос:\n",
    "Как менялось место (Score) команды после добавления участников\n",
    "Тут можно даже подумать об анализе временных рядов и применении различных методов машинного обучения.\n",
    "На данный момент данных достаточно мало, для того, чтобы сделать полноценный вывод"
   ]
  }
 ],
 "metadata": {
  "kernelspec": {
   "display_name": "Python 3",
   "language": "python",
   "name": "python3"
  },
  "language_info": {
   "codemirror_mode": {
    "name": "ipython",
    "version": 3
   },
   "file_extension": ".py",
   "mimetype": "text/x-python",
   "name": "python",
   "nbconvert_exporter": "python",
   "pygments_lexer": "ipython3",
   "version": "3.7.6"
  }
 },
 "nbformat": 4,
 "nbformat_minor": 4
}
